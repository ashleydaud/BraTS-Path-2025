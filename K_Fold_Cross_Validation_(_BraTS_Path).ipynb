{
  "cells": [
    {
      "cell_type": "code",
      "execution_count": null,
      "metadata": {
        "execution": {
          "iopub.execute_input": "2025-07-09T16:39:07.831537Z",
          "iopub.status.busy": "2025-07-09T16:39:07.831264Z",
          "iopub.status.idle": "2025-07-09T16:39:17.991953Z",
          "shell.execute_reply": "2025-07-09T16:39:17.991294Z",
          "shell.execute_reply.started": "2025-07-09T16:39:07.831518Z"
        },
        "id": "hWj4parZylpb"
      },
      "outputs": [],
      "source": [
        "#Importing the all Libraries\n",
        "import os\n",
        "import numpy as np\n",
        "import torch\n",
        "import torch.nn as nn\n",
        "from tqdm import tqdm\n",
        "import torch.optim as optim\n",
        "from torch.utils.data import DataLoader, Subset, ConcatDataset\n",
        "from torchvision import datasets, transforms\n",
        "from torchvision.models import mobilenet_v2, MobileNet_V2_Weights\n",
        "from sklearn.model_selection import StratifiedKFold\n",
        "from sklearn.metrics import (accuracy_score, precision_score, recall_score, f1_score,\n",
        "                             confusion_matrix, classification_report, matthews_corrcoef)\n",
        "import matplotlib.pyplot as plt"
      ]
    },
    {
      "cell_type": "code",
      "execution_count": null,
      "metadata": {
        "execution": {
          "iopub.execute_input": "2025-07-09T16:39:20.490358Z",
          "iopub.status.busy": "2025-07-09T16:39:20.489528Z",
          "iopub.status.idle": "2025-07-09T16:39:20.559368Z",
          "shell.execute_reply": "2025-07-09T16:39:20.558494Z",
          "shell.execute_reply.started": "2025-07-09T16:39:20.490317Z"
        },
        "id": "B7lj9uvwylpf",
        "outputId": "276733b7-ef81-483a-e74d-9cc8e93e0d35"
      },
      "outputs": [
        {
          "name": "stdout",
          "output_type": "stream",
          "text": [
            "Using device: cuda\n"
          ]
        }
      ],
      "source": [
        "# Speed up the process, CUDA  = GPU is AVAILABLE\n",
        "\n",
        "device = torch.device(\"cuda\" if torch.cuda.is_available() else \"cpu\")\n",
        "print(\"Using device:\", device)"
      ]
    },
    {
      "cell_type": "code",
      "execution_count": null,
      "metadata": {
        "execution": {
          "iopub.execute_input": "2025-07-09T16:39:24.341798Z",
          "iopub.status.busy": "2025-07-09T16:39:24.341216Z",
          "iopub.status.idle": "2025-07-09T16:39:24.345536Z",
          "shell.execute_reply": "2025-07-09T16:39:24.344658Z",
          "shell.execute_reply.started": "2025-07-09T16:39:24.341776Z"
        },
        "id": "vpttBuKNylpg"
      },
      "outputs": [],
      "source": [
        "# Training Parameters being set ( transfer learning=frozen backbone)\n",
        "lr = 0.000196277\n",
        "batch_size = 64\n",
        "dropout = 0.11857\n",
        "unfreeze_layers = 4\n",
        "k_folds = 5\n",
        "patience = 5"
      ]
    },
    {
      "cell_type": "code",
      "execution_count": null,
      "metadata": {
        "execution": {
          "iopub.execute_input": "2025-07-09T16:43:26.385045Z",
          "iopub.status.busy": "2025-07-09T16:43:26.384309Z",
          "iopub.status.idle": "2025-07-09T16:49:13.039842Z",
          "shell.execute_reply": "2025-07-09T16:49:13.038987Z",
          "shell.execute_reply.started": "2025-07-09T16:43:26.385019Z"
        },
        "id": "75IByamRylpg",
        "outputId": "95a7192c-087d-4917-b62f-1a9f538b9df1"
      },
      "outputs": [
        {
          "name": "stderr",
          "output_type": "stream",
          "text": [
            "100%|██████████| 262238/262238 [04:02<00:00, 1083.36it/s]\n",
            "100%|██████████| 56189/56189 [00:52<00:00, 1076.93it/s]\n",
            "100%|██████████| 56204/56204 [00:51<00:00, 1090.77it/s]\n"
          ]
        }
      ],
      "source": [
        "# Dataset preparation ( transformation)\n",
        "\n",
        "data_root = \"brats-path-2025\"\n",
        "transform = transforms.Compose([\n",
        "    transforms.Resize((224, 224)),\n",
        "    transforms.ToTensor()\n",
        "])\n",
        "\n",
        "# Training and validation data imported\n",
        "train_dataset = datasets.ImageFolder(os.path.join(data_root, 'train'), transform=transform)\n",
        "val_dataset = datasets.ImageFolder(os.path.join(data_root, 'val'), transform=transform)\n",
        "test_dataset = datasets.ImageFolder(os.path.join(data_root, 'test'), transform=transform)\n",
        "\n",
        "# Combining it for K-Fold validation\n",
        "full_dataset = ConcatDataset([train_dataset, val_dataset, test_dataset])\n",
        "targets = np.concatenate([\n",
        "    np.array([sample[1] for sample in tqdm(train_dataset)]),\n",
        "    np.array([sample[1] for sample in tqdm(val_dataset)]),\n",
        "    np.array([sample[1] for sample in tqdm(test_dataset)])\n",
        "])\n",
        "class_names = train_dataset.classes"
      ]
    },
    {
      "cell_type": "code",
      "execution_count": null,
      "metadata": {
        "execution": {
          "iopub.execute_input": "2025-07-09T16:52:35.988018Z",
          "iopub.status.busy": "2025-07-09T16:52:35.987694Z",
          "iopub.status.idle": "2025-07-09T16:52:35.993233Z",
          "shell.execute_reply": "2025-07-09T16:52:35.992475Z",
          "shell.execute_reply.started": "2025-07-09T16:52:35.987978Z"
        },
        "id": "06yKYL0zylpg"
      },
      "outputs": [],
      "source": [
        "# Early stopping\n",
        "\n",
        "class EarlyStopping:\n",
        "    def __init__(self, patience=5):\n",
        "        self.patience = patience\n",
        "        self.counter = 0\n",
        "        self.best_loss = float('inf')\n",
        "        self.early_stop = False\n",
        "\n",
        "    def __call__(self, val_loss):\n",
        "        if val_loss < self.best_loss:\n",
        "            self.best_loss = val_loss\n",
        "            self.counter = 0\n",
        "        else:\n",
        "            self.counter += 1\n",
        "            if self.counter >= self.patience:\n",
        "                self.early_stop = True"
      ]
    },
    {
      "cell_type": "code",
      "execution_count": null,
      "metadata": {
        "execution": {
          "iopub.execute_input": "2025-07-09T16:52:37.607057Z",
          "iopub.status.busy": "2025-07-09T16:52:37.606732Z",
          "iopub.status.idle": "2025-07-09T16:52:37.612283Z",
          "shell.execute_reply": "2025-07-09T16:52:37.611508Z",
          "shell.execute_reply.started": "2025-07-09T16:52:37.607031Z"
        },
        "id": "ELCccpNcylph"
      },
      "outputs": [],
      "source": [
        "# MobileNetV2 Set Up\n",
        "\n",
        "def build_model(num_classes, dropout, unfreeze_layers):\n",
        "    model = mobilenet_v2(weights=MobileNet_V2_Weights.DEFAULT)\n",
        "    for param in model.parameters():\n",
        "        param.requires_grad = False\n",
        "    child_counter = 0\n",
        "    for child in reversed(list(model.features.children())):\n",
        "        if child_counter >= unfreeze_layers:\n",
        "            break\n",
        "        for param in child.parameters():\n",
        "            param.requires_grad = True\n",
        "        child_counter += 1\n",
        "    model.classifier = nn.Sequential(\n",
        "        nn.Dropout(p=dropout),\n",
        "        nn.Linear(model.last_channel, num_classes)\n",
        "    )\n",
        "    return model.to(device)\n"
      ]
    },
    {
      "cell_type": "code",
      "execution_count": null,
      "metadata": {
        "execution": {
          "iopub.execute_input": "2025-07-09T16:52:40.448912Z",
          "iopub.status.busy": "2025-07-09T16:52:40.448212Z",
          "iopub.status.idle": "2025-07-09T16:52:40.453888Z",
          "shell.execute_reply": "2025-07-09T16:52:40.453283Z",
          "shell.execute_reply.started": "2025-07-09T16:52:40.448887Z"
        },
        "id": "K5zb1PLSylph"
      },
      "outputs": [],
      "source": [
        "# Training & Validation graphs\n",
        "\n",
        "def plot_metrics(train_losses, val_losses, train_accuracies, val_accuracies, fold):\n",
        "    plt.figure(figsize=(12, 5))\n",
        "    plt.subplot(1, 2, 1)\n",
        "    plt.plot(train_losses, label=\"Train Loss\")\n",
        "    plt.plot(val_losses, label=\"Val Loss\")\n",
        "    plt.title(f\"Fold {fold+1} - Loss\")\n",
        "    plt.legend()\n",
        "\n",
        "    plt.subplot(1, 2, 2)\n",
        "    plt.plot(train_accuracies, label=\"Train Acc\")\n",
        "    plt.plot(val_accuracies, label=\"Val Acc\")\n",
        "    plt.title(f\"Fold {fold+1} - Accuracy\")\n",
        "    plt.legend()\n",
        "\n",
        "    plt.tight_layout()\n",
        "    plt.savefig(f\"fold_{fold+1}_metrics.png\")\n",
        "    plt.close()"
      ]
    },
    {
      "cell_type": "code",
      "execution_count": null,
      "metadata": {
        "execution": {
          "iopub.execute_input": "2025-07-09T16:52:41.682773Z",
          "iopub.status.busy": "2025-07-09T16:52:41.682289Z",
          "iopub.status.idle": "2025-07-09T20:47:05.732111Z",
          "shell.execute_reply": "2025-07-09T20:47:05.730247Z",
          "shell.execute_reply.started": "2025-07-09T16:52:41.682749Z"
        },
        "id": "KaCLWcEEylph",
        "outputId": "a1d2768c-974f-47e9-f9bf-d5031e2062ae"
      },
      "outputs": [
        {
          "name": "stderr",
          "output_type": "stream",
          "text": [
            "Downloading: \"https://download.pytorch.org/models/mobilenet_v2-7ebf99e0.pth\" to /root/.cache/torch/hub/checkpoints/mobilenet_v2-7ebf99e0.pth\n"
          ]
        },
        {
          "name": "stdout",
          "output_type": "stream",
          "text": [
            "\n",
            "--- Fold 1/5 ---\n"
          ]
        },
        {
          "name": "stderr",
          "output_type": "stream",
          "text": [
            "100%|██████████| 13.6M/13.6M [00:00<00:00, 156MB/s]\n",
            "100%|██████████| 9366/9366 [10:20<00:00, 15.10it/s]\n",
            "100%|██████████| 2342/2342 [02:07<00:00, 18.41it/s]\n",
            "100%|██████████| 9366/9366 [10:13<00:00, 15.27it/s]\n",
            "100%|██████████| 2342/2342 [02:11<00:00, 17.81it/s]\n",
            "100%|██████████| 9366/9366 [09:59<00:00, 15.64it/s]\n",
            "100%|██████████| 2342/2342 [02:13<00:00, 17.52it/s]\n",
            "100%|██████████| 9366/9366 [09:49<00:00, 15.90it/s]\n",
            "100%|██████████| 2342/2342 [02:03<00:00, 18.98it/s]\n"
          ]
        },
        {
          "name": "stdout",
          "output_type": "stream",
          "text": [
            "Accuracy: 0.9849, Precision: 0.9602, Recall: 0.9619, F1: 0.9606, MCC: 0.9795, Specificity: 0.9980\n",
            "Classification Report:\n",
            "               precision    recall  f1-score   support\n",
            "\n",
            "          CT       0.99      0.98      0.98     25037\n",
            "          DM       0.92      0.97      0.94       436\n",
            "          IC       0.99      1.00      0.99     12677\n",
            "          LI       1.00      0.90      0.95       642\n",
            "          MP       0.94      0.91      0.92      2135\n",
            "          NC       1.00      0.99      1.00     25933\n",
            "          PL       0.92      0.94      0.93       200\n",
            "          PN       0.90      0.98      0.94      3882\n",
            "          WM       0.99      1.00      0.99      3985\n",
            "\n",
            "    accuracy                           0.98     74927\n",
            "   macro avg       0.96      0.96      0.96     74927\n",
            "weighted avg       0.99      0.98      0.98     74927\n",
            "\n",
            "Confusion Matrix:\n",
            " [[24575     2    59     0   121     4     3   239    34]\n",
            " [    2   421     0     0     0     6     2     5     0]\n",
            " [   37     0 12618     0     1     2     0     2    17]\n",
            " [   56     0     5   581     0     0     0     0     0]\n",
            " [  161     1    15     0  1938     1     0    18     1]\n",
            " [   20    30    24     1     3 25703     9   143     0]\n",
            " [    6     2     0     1     4     0   187     0     0]\n",
            " [   75     1     5     0     2     6     2  3791     0]\n",
            " [    2     0     2     0     0     0     0     0  3981]]\n",
            "\n",
            "--- Fold 2/5 ---\n"
          ]
        },
        {
          "name": "stderr",
          "output_type": "stream",
          "text": [
            "100%|██████████| 9366/9366 [09:30<00:00, 16.42it/s]\n",
            "100%|██████████| 2342/2342 [02:13<00:00, 17.60it/s]\n",
            "100%|██████████| 9366/9366 [09:34<00:00, 16.31it/s]\n",
            "100%|██████████| 2342/2342 [02:07<00:00, 18.43it/s]\n",
            "100%|██████████| 9366/9366 [09:42<00:00, 16.07it/s]\n",
            "100%|██████████| 2342/2342 [02:09<00:00, 18.04it/s]\n",
            "100%|██████████| 9366/9366 [09:30<00:00, 16.43it/s]\n",
            "100%|██████████| 2342/2342 [02:01<00:00, 19.30it/s]\n"
          ]
        },
        {
          "name": "stdout",
          "output_type": "stream",
          "text": [
            "Accuracy: 0.9886, Precision: 0.9624, Recall: 0.9673, F1: 0.9644, MCC: 0.9845, Specificity: 0.9984\n",
            "Classification Report:\n",
            "               precision    recall  f1-score   support\n",
            "\n",
            "          CT       0.99      0.99      0.99     25037\n",
            "          DM       0.87      0.98      0.92       436\n",
            "          IC       0.99      0.99      0.99     12677\n",
            "          LI       0.99      0.99      0.99       642\n",
            "          MP       0.96      0.92      0.94      2135\n",
            "          NC       1.00      1.00      1.00     25933\n",
            "          PL       0.93      0.88      0.91       199\n",
            "          PN       0.95      0.97      0.96      3882\n",
            "          WM       0.98      1.00      0.99      3985\n",
            "\n",
            "    accuracy                           0.99     74926\n",
            "   macro avg       0.96      0.97      0.96     74926\n",
            "weighted avg       0.99      0.99      0.99     74926\n",
            "\n",
            "Confusion Matrix:\n",
            " [[24696    13    60     5    63    15     4   137    44]\n",
            " [    1   426     0     0     0     7     0     2     0]\n",
            " [   31     0 12605     3     7     2     0     2    27]\n",
            " [    2     0     7   633     0     0     0     0     0]\n",
            " [  148     2    10     1  1955     5     3    11     0]\n",
            " [    6    39     4     0     4 25850     5    24     1]\n",
            " [    8     5     2     0     3     2   176     3     0]\n",
            " [   63     4     2     0    10    41     1  3761     0]\n",
            " [   12     0     4     0     0     0     0     0  3969]]\n",
            "\n",
            "--- Fold 3/5 ---\n"
          ]
        },
        {
          "name": "stderr",
          "output_type": "stream",
          "text": [
            "100%|██████████| 9366/9366 [09:34<00:00, 16.30it/s]\n",
            "100%|██████████| 2342/2342 [02:01<00:00, 19.33it/s]\n",
            "100%|██████████| 9366/9366 [09:25<00:00, 16.56it/s]\n",
            "100%|██████████| 2342/2342 [02:03<00:00, 18.92it/s]\n",
            "100%|██████████| 9366/9366 [09:42<00:00, 16.07it/s]\n",
            "100%|██████████| 2342/2342 [02:03<00:00, 18.97it/s]\n",
            "100%|██████████| 9366/9366 [09:27<00:00, 16.52it/s]\n",
            "100%|██████████| 2342/2342 [02:03<00:00, 18.95it/s]\n"
          ]
        },
        {
          "name": "stdout",
          "output_type": "stream",
          "text": [
            "Accuracy: 0.9861, Precision: 0.9604, Recall: 0.9729, F1: 0.9663, MCC: 0.9811, Specificity: 0.9981\n",
            "Classification Report:\n",
            "               precision    recall  f1-score   support\n",
            "\n",
            "          CT       0.99      0.98      0.98     25037\n",
            "          DM       0.97      0.96      0.96       436\n",
            "          IC       0.99      0.99      0.99     12677\n",
            "          LI       0.91      1.00      0.95       642\n",
            "          MP       0.95      0.90      0.92      2135\n",
            "          NC       1.00      1.00      1.00     25932\n",
            "          PL       0.94      0.95      0.95       200\n",
            "          PN       0.95      0.97      0.96      3882\n",
            "          WM       0.96      1.00      0.98      3985\n",
            "\n",
            "    accuracy                           0.99     74926\n",
            "   macro avg       0.96      0.97      0.97     74926\n",
            "weighted avg       0.99      0.99      0.99     74926\n",
            "\n",
            "Confusion Matrix:\n",
            " [[24561     1    79    30    98    11     1   142   114]\n",
            " [    1   418     1     0     0     5     5     6     0]\n",
            " [   46     0 12545    32    12     1     0     4    37]\n",
            " [    0     0     0   642     0     0     0     0     0]\n",
            " [  183     0     3     0  1929     5     2    11     2]\n",
            " [    7     8     6     3     0 25845     4    54     5]\n",
            " [    1     0     1     0     1     4   191     2     0]\n",
            " [   64     4    15     0     1    13     1  3784     0]\n",
            " [    5     0     7     0     0     1     0     0  3972]]\n",
            "\n",
            "--- Fold 4/5 ---\n"
          ]
        },
        {
          "name": "stderr",
          "output_type": "stream",
          "text": [
            "100%|██████████| 9366/9366 [09:25<00:00, 16.55it/s]\n",
            "100%|██████████| 2342/2342 [02:04<00:00, 18.88it/s]\n",
            "100%|██████████| 9366/9366 [09:32<00:00, 16.37it/s]\n",
            "100%|██████████| 2342/2342 [02:07<00:00, 18.44it/s]\n",
            "100%|██████████| 9366/9366 [09:36<00:00, 16.24it/s]\n",
            "100%|██████████| 2342/2342 [02:09<00:00, 18.13it/s]\n",
            "100%|██████████| 9366/9366 [09:37<00:00, 16.20it/s]\n",
            "100%|██████████| 2342/2342 [02:07<00:00, 18.36it/s]\n"
          ]
        },
        {
          "name": "stdout",
          "output_type": "stream",
          "text": [
            "Accuracy: 0.9878, Precision: 0.9618, Recall: 0.9669, F1: 0.9643, MCC: 0.9833, Specificity: 0.9983\n",
            "Classification Report:\n",
            "               precision    recall  f1-score   support\n",
            "\n",
            "          CT       0.99      0.99      0.99     25037\n",
            "          DM       0.94      0.97      0.96       436\n",
            "          IC       0.99      1.00      0.99     12677\n",
            "          LI       0.97      0.98      0.98       642\n",
            "          MP       0.90      0.92      0.91      2134\n",
            "          NC       1.00      1.00      1.00     25933\n",
            "          PL       0.90      0.90      0.90       200\n",
            "          PN       0.98      0.95      0.97      3882\n",
            "          WM       0.99      1.00      0.99      3985\n",
            "\n",
            "    accuracy                           0.99     74926\n",
            "   macro avg       0.96      0.97      0.96     74926\n",
            "weighted avg       0.99      0.99      0.99     74926\n",
            "\n",
            "Confusion Matrix:\n",
            " [[24668     0   112     7   184     7     1    26    32]\n",
            " [    1   425     1     0     0     9     0     0     0]\n",
            " [   28     0 12631     2     1     0     0     1    14]\n",
            " [   10     0     1   631     0     0     0     0     0]\n",
            " [  124     1    27     2  1964     3     2    10     1]\n",
            " [   24    15     6     7     3 25835     6    36     1]\n",
            " [    8     5     0     0     4     4   179     0     0]\n",
            " [  112     8     2     0    22    22    10  3706     0]\n",
            " [    7     0     7     0     0     0     0     0  3971]]\n",
            "\n",
            "--- Fold 5/5 ---\n"
          ]
        },
        {
          "name": "stderr",
          "output_type": "stream",
          "text": [
            "100%|██████████| 9366/9366 [09:20<00:00, 16.71it/s]\n",
            "100%|██████████| 2342/2342 [01:59<00:00, 19.59it/s]\n",
            "100%|██████████| 9366/9366 [09:14<00:00, 16.88it/s]\n",
            "100%|██████████| 2342/2342 [02:02<00:00, 19.18it/s]\n",
            "100%|██████████| 9366/9366 [09:22<00:00, 16.64it/s]\n",
            "100%|██████████| 2342/2342 [02:02<00:00, 19.15it/s]\n",
            "100%|██████████| 9366/9366 [09:25<00:00, 16.56it/s]\n",
            "100%|██████████| 2342/2342 [02:01<00:00, 19.24it/s]\n"
          ]
        },
        {
          "name": "stdout",
          "output_type": "stream",
          "text": [
            "Accuracy: 0.9885, Precision: 0.9690, Recall: 0.9701, F1: 0.9695, MCC: 0.9843, Specificity: 0.9984\n",
            "Classification Report:\n",
            "               precision    recall  f1-score   support\n",
            "\n",
            "          CT       0.99      0.98      0.99     25037\n",
            "          DM       0.96      0.98      0.97       435\n",
            "          IC       0.99      0.99      0.99     12678\n",
            "          LI       0.99      0.99      0.99       641\n",
            "          MP       0.94      0.90      0.92      2135\n",
            "          NC       1.00      1.00      1.00     25933\n",
            "          PL       0.91      0.91      0.91       200\n",
            "          PN       0.96      0.98      0.97      3882\n",
            "          WM       0.98      1.00      0.99      3985\n",
            "\n",
            "    accuracy                           0.99     74926\n",
            "   macro avg       0.97      0.97      0.97     74926\n",
            "weighted avg       0.99      0.99      0.99     74926\n",
            "\n",
            "Confusion Matrix:\n",
            " [[24659     3    90     1   103     8     0   126    47]\n",
            " [    2   425     0     0     0     5     0     3     0]\n",
            " [   31     0 12613     0     0     1     0     3    30]\n",
            " [    3     0     1   637     0     0     0     0     0]\n",
            " [  161     0    38     2  1920     0     4     9     1]\n",
            " [   13     4    11     1     6 25864     8    22     4]\n",
            " [    4    11     1     0     1     0   182     1     0]\n",
            " [   57     1     1     0     4    19     5  3795     0]\n",
            " [    9     1     3     0     0     0     0     2  3970]]\n"
          ]
        }
      ],
      "source": [
        "# K-Fold Cross-Validation\n",
        "\n",
        "skf = StratifiedKFold(n_splits=k_folds, shuffle=True, random_state=42)\n",
        "metrics_all = []\n",
        "\n",
        "for fold, (train_idx, val_idx) in enumerate(skf.split(np.zeros(len(targets)), targets)):\n",
        "    print(f\"\\n--- Fold {fold+1}/{k_folds} ---\")\n",
        "\n",
        "    train_subset = Subset(full_dataset, train_idx)\n",
        "    val_subset = Subset(full_dataset, val_idx)\n",
        "\n",
        "    train_loader = DataLoader(train_subset, batch_size=batch_size, shuffle=True)\n",
        "    val_loader = DataLoader(val_subset, batch_size=batch_size)\n",
        "\n",
        "    model = build_model(len(class_names), dropout, unfreeze_layers)\n",
        "    criterion = nn.CrossEntropyLoss()\n",
        "    optimizer = optim.Adam(filter(lambda p: p.requires_grad, model.parameters()), lr=lr)\n",
        "    scheduler = optim.lr_scheduler.StepLR(optimizer, step_size=5, gamma=0.1)\n",
        "    early_stopper = EarlyStopping(patience=patience)\n",
        "\n",
        "    train_losses, val_losses = [], []\n",
        "    train_accuracies, val_accuracies = [], []\n",
        "\n",
        "    for epoch in range(4):\n",
        "        model.train()\n",
        "        total, correct, loss_total = 0, 0, 0\n",
        "        for x, y in tqdm(train_loader):\n",
        "            x, y = x.to(device), y.to(device)\n",
        "            optimizer.zero_grad()\n",
        "            outputs = model(x)\n",
        "            loss = criterion(outputs, y)\n",
        "            loss.backward()\n",
        "            optimizer.step()\n",
        "            loss_total += loss.item()\n",
        "            _, preds = outputs.max(1)\n",
        "            correct += preds.eq(y).sum().item()\n",
        "            total += y.size(0)\n",
        "        train_losses.append(loss_total / len(train_loader))\n",
        "        train_accuracies.append(correct / total)\n",
        "\n",
        "        # Validation\n",
        "        model.eval()\n",
        "        total, correct, val_loss_total = 0, 0, 0\n",
        "        y_true, y_pred = [], []\n",
        "        with torch.no_grad():\n",
        "            for x, y in tqdm(val_loader):\n",
        "                x, y = x.to(device), y.to(device)\n",
        "                outputs = model(x)\n",
        "                loss = criterion(outputs, y)\n",
        "                val_loss_total += loss.item()\n",
        "                _, preds = outputs.max(1)\n",
        "                y_true.extend(y.cpu().numpy())\n",
        "                y_pred.extend(preds.cpu().numpy())\n",
        "                correct += preds.eq(y).sum().item()\n",
        "                total += y.size(0)\n",
        "        val_losses.append(val_loss_total / len(val_loader))\n",
        "        val_accuracies.append(correct / total)\n",
        "\n",
        "        scheduler.step()\n",
        "        early_stopper(val_losses[-1])\n",
        "        if early_stopper.early_stop:\n",
        "            print(\"Early stopping triggered.\")\n",
        "            break\n",
        "\n",
        "    # Evaluation Metrics\n",
        "    acc = accuracy_score(y_true, y_pred)\n",
        "    prec = precision_score(y_true, y_pred, average='macro', zero_division=0)\n",
        "    rec = recall_score(y_true, y_pred, average='macro', zero_division=0)\n",
        "    f1 = f1_score(y_true, y_pred, average='macro', zero_division=0)\n",
        "    mcc = matthews_corrcoef(y_true, y_pred)\n",
        "    cm = confusion_matrix(y_true, y_pred)\n",
        "    specificity = []\n",
        "    for i in range(len(class_names)):\n",
        "        tn = cm.sum() - (cm[i, :].sum() + cm[:, i].sum() - cm[i, i])\n",
        "        fp = cm[:, i].sum() - cm[i, i]\n",
        "        specificity.append(tn / (tn + fp + 1e-6))\n",
        "    spec = np.mean(specificity)\n",
        "\n",
        "    print(f\"Accuracy: {acc:.4f}, Precision: {prec:.4f}, Recall: {rec:.4f}, F1: {f1:.4f}, MCC: {mcc:.4f}, Specificity: {spec:.4f}\")\n",
        "    print(\"Classification Report:\\n\", classification_report(y_true, y_pred, target_names=class_names))\n",
        "    print(\"Confusion Matrix:\\n\", cm)\n",
        "\n",
        "    metrics_all.append([acc, prec, rec, f1, mcc, spec])\n",
        "    plot_metrics(train_losses, val_losses, train_accuracies, val_accuracies, fold)"
      ]
    },
    {
      "cell_type": "code",
      "execution_count": null,
      "metadata": {
        "execution": {
          "iopub.execute_input": "2025-07-09T20:47:12.872500Z",
          "iopub.status.busy": "2025-07-09T20:47:12.872235Z",
          "iopub.status.idle": "2025-07-09T20:47:12.878409Z",
          "shell.execute_reply": "2025-07-09T20:47:12.877557Z",
          "shell.execute_reply.started": "2025-07-09T20:47:12.872480Z"
        },
        "id": "Xx-p5rROylpi",
        "outputId": "f975a47a-dda8-475a-fb74-2e50d9372398"
      },
      "outputs": [
        {
          "name": "stdout",
          "output_type": "stream",
          "text": [
            "\n",
            "===== AVERAGE METRICS OVER ALL FOLDS =====\n",
            "Accuracy:     0.9872\n",
            "Precision:    0.9628\n",
            "Recall:       0.9678\n",
            "F1 Score:     0.9650\n",
            "MCC:          0.9825\n",
            "Specificity:  0.9982\n"
          ]
        }
      ],
      "source": [
        "# Average metrics\n",
        "\n",
        "metrics_all = np.array(metrics_all)\n",
        "print(\"\\n===== AVERAGE METRICS OVER ALL FOLDS =====\")\n",
        "print(f\"Accuracy:     {metrics_all[:,0].mean():.4f}\")\n",
        "print(f\"Precision:    {metrics_all[:,1].mean():.4f}\")\n",
        "print(f\"Recall:       {metrics_all[:,2].mean():.4f}\")\n",
        "print(f\"F1 Score:     {metrics_all[:,3].mean():.4f}\")\n",
        "print(f\"MCC:          {metrics_all[:,4].mean():.4f}\")\n",
        "print(f\"Specificity:  {metrics_all[:,5].mean():.4f}\")\n"
      ]
    }
  ],
  "metadata": {
    "kaggle": {
      "accelerator": "gpu",
      "dataSources": [],
      "dockerImageVersionId": 31041,
      "isGpuEnabled": true,
      "isInternetEnabled": true,
      "language": "python",
      "sourceType": "notebook"
    },
    "kernelspec": {
      "display_name": "Python 3 (ipykernel)",
      "language": "python",
      "name": "python3"
    },
    "language_info": {
      "codemirror_mode": {
        "name": "ipython",
        "version": 3
      },
      "file_extension": ".py",
      "mimetype": "text/x-python",
      "name": "python",
      "nbconvert_exporter": "python",
      "pygments_lexer": "ipython3",
      "version": "3.11.5"
    },
    "colab": {
      "provenance": []
    }
  },
  "nbformat": 4,
  "nbformat_minor": 0
}